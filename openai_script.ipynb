{
 "cells": [
  {
   "cell_type": "code",
   "execution_count": 1,
   "metadata": {},
   "outputs": [],
   "source": [
    "from dotenv import load_dotenv\n",
    "from openai import OpenAI\n",
    "import os"
   ]
  },
  {
   "cell_type": "code",
   "execution_count": 2,
   "metadata": {},
   "outputs": [],
   "source": [
    "# Get the OpenAI API key from the environment variable\n",
    "load_dotenv()\n",
    "openai_api_key = os.getenv(\"OPENAI_API_KEY\")\n",
    "\n",
    "if not openai_api_key:\n",
    "    raise ValueError(\"OpenAI API key is missing. Please add it to the .env file.\")\n",
    "client = OpenAI(api_key=openai_api_key)"
   ]
  },
  {
   "cell_type": "code",
   "execution_count": 3,
   "metadata": {},
   "outputs": [
    {
     "data": {
      "text/plain": [
       "FileObject(id='file-AK0IH94laEpjfK1ozHLMm6my', bytes=117630, created_at=1728143411, filename='sop-dataset.jsonl', object='file', purpose='fine-tune', status='processed', status_details=None)"
      ]
     },
     "execution_count": 3,
     "metadata": {},
     "output_type": "execute_result"
    }
   ],
   "source": [
    "client.files.create(\n",
    "  file=open(\"FineTuning_SOP/sop-dataset.jsonl\", \"rb\"),\n",
    "  purpose=\"fine-tune\"\n",
    ")"
   ]
  },
  {
   "cell_type": "code",
   "execution_count": 5,
   "metadata": {},
   "outputs": [
    {
     "data": {
      "text/plain": [
       "FineTuningJob(id='ftjob-BOQbaQVfqp9PeA8UZqCCItTX', created_at=1728178335, error=Error(code=None, message=None, param=None), fine_tuned_model=None, finished_at=None, hyperparameters=Hyperparameters(n_epochs='auto', batch_size='auto', learning_rate_multiplier='auto'), model='gpt-4o-mini-2024-07-18', object='fine_tuning.job', organization_id='org-ZwARnhihzt89UwpNhgmloWQ5', result_files=[], seed=70067702, status='validating_files', trained_tokens=None, training_file='file-AK0IH94laEpjfK1ozHLMm6my', validation_file=None, estimated_finish=None, integrations=[], user_provided_suffix='soptest1')"
      ]
     },
     "execution_count": 5,
     "metadata": {},
     "output_type": "execute_result"
    }
   ],
   "source": [
    "client.fine_tuning.jobs.create(\n",
    "  training_file=\"file-AK0IH94laEpjfK1ozHLMm6my\", \n",
    "  model=\"gpt-4o-mini-2024-07-18\",\n",
    "  suffix=\"soptest1\"\n",
    ")"
   ]
  },
  {
   "cell_type": "code",
   "execution_count": 8,
   "metadata": {},
   "outputs": [
    {
     "data": {
      "text/plain": [
       "FineTuningJob(id='ftjob-BOQbaQVfqp9PeA8UZqCCItTX', created_at=1728178335, error=Error(code=None, message=None, param=None), fine_tuned_model='ft:gpt-4o-mini-2024-07-18:personal:soptest1:AFAVgk1j', finished_at=1728178682, hyperparameters=Hyperparameters(n_epochs=3, batch_size=1, learning_rate_multiplier=1.8), model='gpt-4o-mini-2024-07-18', object='fine_tuning.job', organization_id='org-ZwARnhihzt89UwpNhgmloWQ5', result_files=['file-gbqjyVhhNsU4zs6SZ4QGsquk'], seed=70067702, status='succeeded', trained_tokens=83427, training_file='file-AK0IH94laEpjfK1ozHLMm6my', validation_file=None, estimated_finish=None, integrations=[], user_provided_suffix='soptest1')"
      ]
     },
     "execution_count": 8,
     "metadata": {},
     "output_type": "execute_result"
    }
   ],
   "source": [
    "# Retrieve the state of a fine-tune\n",
    "client.fine_tuning.jobs.retrieve(\"ftjob-BOQbaQVfqp9PeA8UZqCCItTX\")"
   ]
  },
  {
   "cell_type": "code",
   "execution_count": 14,
   "metadata": {},
   "outputs": [
    {
     "name": "stdout",
     "output_type": "stream",
     "text": [
      "ChatCompletionMessage(content='**Standard Operating Procedure (SOP) for Cleaning Test Tubes**\\n\\n**1.0 Objective:** To clearly outline unmanned cleaning methods after material testing so that no contamination will be caused.\\n\\n**2.0 Scope:** This SOP is applicable only for cleaning tubes in the chemistry laboratory as per the as-is-phase instrument list.\\n\\n**3.0 Responsibility:**\\n  - **3.1 Execution:** Lab Assistant/Gr. I\\n  - **3.2 Checking:** Executive/Manager\\n\\n**4.0 Accountability:** Head of the Department\\n\\n**5.0 Procedure:**\\n  - 5.1 Clean and wipe with an approved lab detergent using a brush. Ensure no old material remains in the tube.\\n  - 5.2 Wash with running water.\\n  - 5.3 Wash with 20 liters of 0.1 N HCl solution as per S.P. 2001.\\n  - 5.4 Then wash with 20 liters of distilled water as per S.P. 2001 until the hardness test is negative.\\n  - 5.5 After cleaning, drip dry in the sunlight.\\n  - 5.6 Finally air dry and label as “Cleaned\".\\n\\n**6.0 Abbreviation:**\\n  - S.P. = Specification\\n  - N HCl = Normal Hidrochloric Acid\\n  - N.A. = Not Applicable', role='assistant', function_call=None, tool_calls=None, refusal=None)\n"
     ]
    }
   ],
   "source": [
    "completion = client.chat.completions.create(\n",
    "  model=\"ft:gpt-4o-mini-2024-07-18:personal:soptest1:AFAVgk1j\",\n",
    "  messages=[\n",
    "    {\"role\": \"user\", \"content\": \"Generate an SOP for cleaning of test tubes\"}\n",
    "  ]\n",
    ")\n",
    "print(completion.choices[0].message)"
   ]
  },
  {
   "cell_type": "code",
   "execution_count": 15,
   "metadata": {},
   "outputs": [],
   "source": [
    "generated_sop = completion.choices[0].message"
   ]
  },
  {
   "cell_type": "code",
   "execution_count": 16,
   "metadata": {},
   "outputs": [
    {
     "name": "stdout",
     "output_type": "stream",
     "text": [
      "ChatCompletionMessage(content='**Standard Operating Procedure (SOP) for Cleaning Test Tubes**\\n\\n**1.0 Objective:** To clearly outline unmanned cleaning methods after material testing so that no contamination will be caused.\\n\\n**2.0 Scope:** This SOP is applicable only for cleaning tubes in the chemistry laboratory as per the as-is-phase instrument list.\\n\\n**3.0 Responsibility:**\\n  - **3.1 Execution:** Lab Assistant/Gr. I\\n  - **3.2 Checking:** Executive/Manager\\n\\n**4.0 Accountability:** Head of the Department\\n\\n**5.0 Procedure:**\\n  - 5.1 Clean and wipe with an approved lab detergent using a brush. Ensure no old material remains in the tube.\\n  - 5.2 Wash with running water.\\n  - 5.3 Wash with 20 liters of 0.1 N HCl solution as per S.P. 2001.\\n  - 5.4 Then wash with 20 liters of distilled water as per S.P. 2001 until the hardness test is negative.\\n  - 5.5 After cleaning, drip dry in the sunlight.\\n  - 5.6 Finally air dry and label as “Cleaned\".\\n\\n**6.0 Abbreviation:**\\n  - S.P. = Specification\\n  - N HCl = Normal Hidrochloric Acid\\n  - N.A. = Not Applicable', role='assistant', function_call=None, tool_calls=None, refusal=None)\n"
     ]
    }
   ],
   "source": [
    "print(generated_sop)"
   ]
  }
 ],
 "metadata": {
  "kernelspec": {
   "display_name": "myenv",
   "language": "python",
   "name": "python3"
  },
  "language_info": {
   "codemirror_mode": {
    "name": "ipython",
    "version": 3
   },
   "file_extension": ".py",
   "mimetype": "text/x-python",
   "name": "python",
   "nbconvert_exporter": "python",
   "pygments_lexer": "ipython3",
   "version": "3.12.4"
  }
 },
 "nbformat": 4,
 "nbformat_minor": 2
}
